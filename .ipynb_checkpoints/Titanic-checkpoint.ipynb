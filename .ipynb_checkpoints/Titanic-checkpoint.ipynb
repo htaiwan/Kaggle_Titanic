{
 "cells": [
  {
   "cell_type": "markdown",
   "metadata": {},
   "source": [
    "## <font color=red>1. 了解背景和目標<font><br>\n",
    "\n",
    "- The sinking of the RMS Titanic is one of the most infamous shipwrecks in history.  On April 15, 1912, during her maiden voyage, the Titanic sank after colliding with an iceberg, **killing 1502 out of 2224 passengers and crew.** This sensational tragedy shocked the international community and led to better safety regulations for ships.\n",
    "\n",
    "> - Titanic 沈船事件中，總共2224人中有1502人喪身。\n",
    "\n",
    "- One of the reasons that the shipwreck led to such loss of life was that **there were not enough lifeboats for the passengers and crew**. Although there was some element of luck involved in surviving the sinking, **some groups of people were more likely to survive than others, such as women, children, and the upper-class.**\n",
    "\n",
    "> - 這麼多人喪身最主要的原因就是救生艇的不足。\n",
    "> - 獲救的人並不是隨機的，例如女人，小孩，頭等艙乘客等獲救的機會較大。\n",
    "\n",
    "- In this challenge, we ask you to complete the analysis of what sorts of people were likely to survive. In particular, we ask you to apply the tools of machine learning to predict which passengers survived the tragedy.\n",
    "\n",
    "> - 這個比賽目標，要根據訓練跟測試數據中一些乘客的個人資訊以及存活狀況，嘗試去利用machine learning的方式去預測其他人的存活狀況。"
   ]
  },
  {
   "cell_type": "markdown",
   "metadata": {},
   "source": [
    "## <font color=red>2. 了解評估標準<font><br>\n",
    "\n",
    "[評分方式](https://www.kaggle.com/c/titanic#evaluation)\n",
    "\n",
    "- **Metric**: Your score is the percentage of passengers you correctly predict. This is known simply as \"accuracy”.\n",
    "\n",
    "> - 利用accuracy當作評估標準。"
   ]
  },
  {
   "cell_type": "code",
   "execution_count": null,
   "metadata": {
    "collapsed": true
   },
   "outputs": [],
   "source": []
  }
 ],
 "metadata": {
  "kernelspec": {
   "display_name": "Python 3",
   "language": "python",
   "name": "python3"
  },
  "language_info": {
   "codemirror_mode": {
    "name": "ipython",
    "version": 3
   },
   "file_extension": ".py",
   "mimetype": "text/x-python",
   "name": "python",
   "nbconvert_exporter": "python",
   "pygments_lexer": "ipython3",
   "version": "3.6.3"
  }
 },
 "nbformat": 4,
 "nbformat_minor": 2
}
