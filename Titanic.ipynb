{
 "cells": [
  {
   "cell_type": "markdown",
   "metadata": {},
   "source": [
    "## <font color=blue>1. 了解背景和目標<font><br>\n",
    "\n",
    "\n",
    "- The sinking of the RMS Titanic is one of the most infamous shipwrecks in history.  On April 15, 1912, during her maiden voyage, the Titanic sank after colliding with an iceberg, **killing 1502 out of 2224 passengers and crew.** This sensational tragedy shocked the international community and led to better safety regulations for ships.\n",
    "\n",
    "> - Titanic 沈船事件中，總共2224人中有1502人喪身。\n",
    "\n",
    "- One of the reasons that the shipwreck led to such loss of life was that **there were not enough lifeboats for the passengers and crew**. Although there was some element of luck involved in surviving the sinking, **some groups of people were more likely to survive than others, such as women, children, and the upper-class.**\n",
    "\n",
    "> - 這麼多人喪身最主要的原因就是救生艇的不足。\n",
    "> - 獲救的人並不是隨機的，例如女人，小孩，頭等艙乘客等獲救的機會較大。\n",
    "\n",
    "- In this challenge, we ask you to complete the analysis of what sorts of people were likely to survive. In particular, we ask you to apply the tools of machine learning to predict which passengers survived the tragedy.\n",
    "\n",
    "> - 這個比賽目標，要根據訓練跟測試數據中一些乘客的個人資訊以及存活狀況，嘗試去利用machine learning的方式去預測其他人的存活狀況。"
   ]
  },
  {
   "cell_type": "markdown",
   "metadata": {},
   "source": [
    "## <font color=blue>2. 了解評估標準<font><br>\n",
    "\n",
    "[評分方式](https://www.kaggle.com/c/titanic#evaluation)\n",
    "\n",
    "- **Metric**: Your score is the percentage of passengers you correctly predict. This is known simply as \"accuracy”.\n",
    "\n",
    "> - 利用accuracy當作評估標準。"
   ]
  },
  {
   "cell_type": "markdown",
   "metadata": {},
   "source": [
    "## <font color=blue>3. 認識數據 <font><br>\n"
   ]
  },
  {
   "cell_type": "code",
   "execution_count": 8,
   "metadata": {
    "collapsed": true
   },
   "outputs": [],
   "source": [
    "# 先import所需要的library\n",
    "import pandas as pd  # 用於數據分析\n",
    "import numpy as np # 用於科學計算\n",
    "from pandas import Series,DataFrame"
   ]
  },
  {
   "cell_type": "code",
   "execution_count": 9,
   "metadata": {},
   "outputs": [
    {
     "data": {
      "text/plain": [
       "Index(['PassengerId', 'Survived', 'Pclass', 'Name', 'Sex', 'Age', 'SibSp',\n",
       "       'Parch', 'Ticket', 'Fare', 'Cabin', 'Embarked'],\n",
       "      dtype='object')"
      ]
     },
     "execution_count": 9,
     "metadata": {},
     "output_type": "execute_result"
    }
   ],
   "source": [
    "# 載入訓練集\n",
    "data_train = pd.read_csv(\"Train.csv\")\n",
    "data_train.columns"
   ]
  },
  {
   "cell_type": "markdown",
   "metadata": {},
   "source": [
    "### 認識數據中的欄位意義。\n",
    "\n",
    "利用**data_train.columns**來初步認識數據中各個欄位。\n",
    "\n",
    " - PassengerId => 乘客ID<br>\n",
    " - Survived => 是否生存<br>\n",
    " - Pclass => 乘客等级(1/2/3等艙位)<br>\n",
    " - Name => 乘客姓名<br>\n",
    " - Sex => 性别<br>\n",
    " - Age => 年齡<br>\n",
    " - SibSp => 堂兄弟/妹個數<br>\n",
    " - Parch => 父母與小孩個數<br>\n",
    " - Ticket => 船票信息<br>\n",
    " - Fare => 票價<br>\n",
    " - Cabin => 客艙<br>\n",
    " - Embarked => 登船港口"
   ]
  },
  {
   "cell_type": "code",
   "execution_count": 10,
   "metadata": {},
   "outputs": [
    {
     "name": "stdout",
     "output_type": "stream",
     "text": [
      "<class 'pandas.core.frame.DataFrame'>\n",
      "RangeIndex: 891 entries, 0 to 890\n",
      "Data columns (total 12 columns):\n",
      "PassengerId    891 non-null int64\n",
      "Survived       891 non-null int64\n",
      "Pclass         891 non-null int64\n",
      "Name           891 non-null object\n",
      "Sex            891 non-null object\n",
      "Age            714 non-null float64\n",
      "SibSp          891 non-null int64\n",
      "Parch          891 non-null int64\n",
      "Ticket         891 non-null object\n",
      "Fare           891 non-null float64\n",
      "Cabin          204 non-null object\n",
      "Embarked       889 non-null object\n",
      "dtypes: float64(2), int64(5), object(5)\n",
      "memory usage: 83.6+ KB\n"
     ]
    }
   ],
   "source": [
    "data_train.info()"
   ]
  },
  {
   "cell_type": "markdown",
   "metadata": {
    "collapsed": true
   },
   "source": [
    "### 檢查數據的數量是否有缺失。\n",
    "\n",
    "利用**data_train.info()**來了解數據的數量是否有缺失。\n",
    "\n",
    "- 訓練集總共有891筆資料。\n",
    "- Age跟Cabin的資訊有缺少。\n",
    " - Age只有714筆。\n",
    " - Cabin只有204筆。\n"
   ]
  },
  {
   "cell_type": "code",
   "execution_count": 11,
   "metadata": {},
   "outputs": [
    {
     "data": {
      "text/html": [
       "<div>\n",
       "<style>\n",
       "    .dataframe thead tr:only-child th {\n",
       "        text-align: right;\n",
       "    }\n",
       "\n",
       "    .dataframe thead th {\n",
       "        text-align: left;\n",
       "    }\n",
       "\n",
       "    .dataframe tbody tr th {\n",
       "        vertical-align: top;\n",
       "    }\n",
       "</style>\n",
       "<table border=\"1\" class=\"dataframe\">\n",
       "  <thead>\n",
       "    <tr style=\"text-align: right;\">\n",
       "      <th></th>\n",
       "      <th>PassengerId</th>\n",
       "      <th>Survived</th>\n",
       "      <th>Pclass</th>\n",
       "      <th>Age</th>\n",
       "      <th>SibSp</th>\n",
       "      <th>Parch</th>\n",
       "      <th>Fare</th>\n",
       "    </tr>\n",
       "  </thead>\n",
       "  <tbody>\n",
       "    <tr>\n",
       "      <th>count</th>\n",
       "      <td>891.000000</td>\n",
       "      <td>891.000000</td>\n",
       "      <td>891.000000</td>\n",
       "      <td>714.000000</td>\n",
       "      <td>891.000000</td>\n",
       "      <td>891.000000</td>\n",
       "      <td>891.000000</td>\n",
       "    </tr>\n",
       "    <tr>\n",
       "      <th>mean</th>\n",
       "      <td>446.000000</td>\n",
       "      <td>0.383838</td>\n",
       "      <td>2.308642</td>\n",
       "      <td>29.699118</td>\n",
       "      <td>0.523008</td>\n",
       "      <td>0.381594</td>\n",
       "      <td>32.204208</td>\n",
       "    </tr>\n",
       "    <tr>\n",
       "      <th>std</th>\n",
       "      <td>257.353842</td>\n",
       "      <td>0.486592</td>\n",
       "      <td>0.836071</td>\n",
       "      <td>14.526497</td>\n",
       "      <td>1.102743</td>\n",
       "      <td>0.806057</td>\n",
       "      <td>49.693429</td>\n",
       "    </tr>\n",
       "    <tr>\n",
       "      <th>min</th>\n",
       "      <td>1.000000</td>\n",
       "      <td>0.000000</td>\n",
       "      <td>1.000000</td>\n",
       "      <td>0.420000</td>\n",
       "      <td>0.000000</td>\n",
       "      <td>0.000000</td>\n",
       "      <td>0.000000</td>\n",
       "    </tr>\n",
       "    <tr>\n",
       "      <th>25%</th>\n",
       "      <td>223.500000</td>\n",
       "      <td>0.000000</td>\n",
       "      <td>2.000000</td>\n",
       "      <td>20.125000</td>\n",
       "      <td>0.000000</td>\n",
       "      <td>0.000000</td>\n",
       "      <td>7.910400</td>\n",
       "    </tr>\n",
       "    <tr>\n",
       "      <th>50%</th>\n",
       "      <td>446.000000</td>\n",
       "      <td>0.000000</td>\n",
       "      <td>3.000000</td>\n",
       "      <td>28.000000</td>\n",
       "      <td>0.000000</td>\n",
       "      <td>0.000000</td>\n",
       "      <td>14.454200</td>\n",
       "    </tr>\n",
       "    <tr>\n",
       "      <th>75%</th>\n",
       "      <td>668.500000</td>\n",
       "      <td>1.000000</td>\n",
       "      <td>3.000000</td>\n",
       "      <td>38.000000</td>\n",
       "      <td>1.000000</td>\n",
       "      <td>0.000000</td>\n",
       "      <td>31.000000</td>\n",
       "    </tr>\n",
       "    <tr>\n",
       "      <th>max</th>\n",
       "      <td>891.000000</td>\n",
       "      <td>1.000000</td>\n",
       "      <td>3.000000</td>\n",
       "      <td>80.000000</td>\n",
       "      <td>8.000000</td>\n",
       "      <td>6.000000</td>\n",
       "      <td>512.329200</td>\n",
       "    </tr>\n",
       "  </tbody>\n",
       "</table>\n",
       "</div>"
      ],
      "text/plain": [
       "       PassengerId    Survived      Pclass         Age       SibSp  \\\n",
       "count   891.000000  891.000000  891.000000  714.000000  891.000000   \n",
       "mean    446.000000    0.383838    2.308642   29.699118    0.523008   \n",
       "std     257.353842    0.486592    0.836071   14.526497    1.102743   \n",
       "min       1.000000    0.000000    1.000000    0.420000    0.000000   \n",
       "25%     223.500000    0.000000    2.000000   20.125000    0.000000   \n",
       "50%     446.000000    0.000000    3.000000   28.000000    0.000000   \n",
       "75%     668.500000    1.000000    3.000000   38.000000    1.000000   \n",
       "max     891.000000    1.000000    3.000000   80.000000    8.000000   \n",
       "\n",
       "            Parch        Fare  \n",
       "count  891.000000  891.000000  \n",
       "mean     0.381594   32.204208  \n",
       "std      0.806057   49.693429  \n",
       "min      0.000000    0.000000  \n",
       "25%      0.000000    7.910400  \n",
       "50%      0.000000   14.454200  \n",
       "75%      0.000000   31.000000  \n",
       "max      6.000000  512.329200  "
      ]
     },
     "execution_count": 11,
     "metadata": {},
     "output_type": "execute_result"
    }
   ],
   "source": [
    "data_train.describe()"
   ]
  },
  {
   "cell_type": "markdown",
   "metadata": {},
   "source": [
    "## 認識基本的數據分佈\n",
    "\n",
    "利用**data_train.describe()**來了解基本的數據分佈。\n",
    "\n",
    "- 平均年紀29.69歲。\n",
    "- 平均存活率0.38。 \n"
   ]
  },
  {
   "cell_type": "markdown",
   "metadata": {},
   "source": [
    "## <font color=blue>4. 分析數據 <font><br>"
   ]
  },
  {
   "cell_type": "code",
   "execution_count": 21,
   "metadata": {},
   "outputs": [
    {
     "data": {
      "image/png": "[encoded data removed]",
      "text/plain": [
       "<matplotlib.figure.Figure at 0x10bc15588>"
      ]
     },
     "metadata": {},
     "output_type": "display_data"
    }
   ],
   "source": [
    "import matplotlib.pyplot as plt\n",
    "fig = plt.figure() # 建立圖表物件\n",
    "fig.set(alpha=0.2) # 設定圖表顏色alpha值\n",
    "\n",
    "plt.subplot2grid((2,3),(0,0)) # (shape, loc)，將圖片物件切割成2列3行，左上角的第一個小圖表\n",
    "data_train.Survived.value_counts().plot(kind='bar') # 統計生存人數，並繪製成長條圖\n",
    "plt.title(\"獲救情況(1為獲救)\") # 圖表title\n",
    "plt.ylabel(\"人數\")\n",
    "\n",
    "\n",
    "plt.subplot2grid((2,3),(0,1))\n",
    "data_train.Pclass.value_counts().plot(kind='bar')\n",
    "plt.ylabel(\"人數\")\n",
    "plt.title(\"乘客等級分佈\")\n",
    "\n",
    "\n",
    "plt.subplot2grid((2,3),(0,2))\n",
    "plt.scatter(data_train.Survived, data_train.Age)\n",
    "plt.ylabel(\"年齡\")                        \n",
    "plt.grid(b=True, which='major', axis='y') \n",
    "plt.title(\"按年齡看獲救分佈(1為獲救)\")\n",
    "\n",
    "\n",
    "plt.subplot2grid((2,3),(1,0), colspan=2) # colspan 佔據2行空間\n",
    "data_train.Age[data_train.Pclass == 1].plot(kind='kde')\n",
    "data_train.Age[data_train.Pclass == 2].plot(kind='kde')\n",
    "data_train.Age[data_train.Pclass == 3].plot(kind='kde')\n",
    "plt.xlabel(\"年齡\")\n",
    "plt.ylabel(\"密度\")\n",
    "plt.title(\"各等級的乘客年齡分佈\")\n",
    "plt.legend(('頭等艙','2等艙','3等艙'), loc='best')\n",
    "\n",
    "plt.subplot2grid((2,3),(1,2))\n",
    "data_train.Embarked.value_counts().plot(kind='bar')\n",
    "plt.title(\"登船口的上船人數\")\n",
    "plt.ylabel(\"人數\") \n",
    "\n",
    "plt.show()"
   ]
  },
  {
   "cell_type": "markdown",
   "metadata": {},
   "source": [
    "- 從各種不同圖表來進行分析\n",
    "\n",
    " - 從**獲救情況**分析，被救人數約300多一點點，不到一半。\n",
    " - 從**乘客等級分佈**分析，3等艙的乘客非常多。\n",
    " - 從**年齡看獲救分佈**分析，遇難和獲救的人的年齡分佈似乎都廣。\n",
    " - 從**各等級的乘客年齡分佈**分析，2,3等艙的年紀較輕大約20多歲，頭等艙年紀大約40歲左右。\n",
    " - 從**登船口的上船人數**分析，S岸口人數最多，遠大於另外2個岸口。\n",
    " \n",
    "- 思路\n",
    "\n",
    " - 不同艙等的客人獲救的機率是否有不同?\n",
    " - 不同性別的客人獲救的機率是否有不同?\n",
    " - 不同登船口的客人獲救的機率是否有不同?"
   ]
  },
  {
   "cell_type": "code",
   "execution_count": 22,
   "metadata": {},
   "outputs": [
    {
     "data": {
      "text/plain": [
       "<matplotlib.figure.Figure at 0x10c542a90>"
      ]
     },
     "metadata": {},
     "output_type": "display_data"
    },
    {
     "data": {
      "image/png": "[encoded data removed]",
      "text/plain": [
       "<matplotlib.figure.Figure at 0x10bd226a0>"
      ]
     },
     "metadata": {},
     "output_type": "display_data"
    }
   ],
   "source": [
    "# 不同艙等的客人獲救的機率是否有不同\n",
    "fig = plt.figure()\n",
    "fig.set(alpha=0.2)\n",
    "\n",
    "Survived_0 = data_train.Pclass[data_train.Survived == 0].value_counts()\n",
    "Survived_1 = data_train.Pclass[data_train.Survived == 1].value_counts()\n",
    "df = pd.DataFrame({'獲救':Survived_1, '未獲救':Survived_0})\n",
    "df.plot(kind='bar', stacked=True)\n",
    "plt.title(\"不同艙等的客人獲救情況\")\n",
    "plt.xlabel('艙等')\n",
    "plt.ylabel('人數')\n",
    "\n",
    "plt.show()"
   ]
  },
  {
   "cell_type": "markdown",
   "metadata": {},
   "source": [
    "### <font color=red>頭等艙的客人明顯獲救的機率高很多，所以這絕對是影之後預測獲救機率的一個重要特徵。<font>"
   ]
  },
  {
   "cell_type": "code",
   "execution_count": 23,
   "metadata": {},
   "outputs": [
    {
     "data": {
      "text/plain": [
       "<matplotlib.figure.Figure at 0x1110c5f60>"
      ]
     },
     "metadata": {},
     "output_type": "display_data"
    },
    {
     "data": {
      "image/png": "[encoded data removed]",
      "text/plain": [
       "<matplotlib.figure.Figure at 0x10c56c588>"
      ]
     },
     "metadata": {},
     "output_type": "display_data"
    }
   ],
   "source": [
    "# 不同性別的客人獲救的機率是否有不同?\n",
    "fig = plt.figure()\n",
    "fig.set(alpha=0.2)\n",
    "\n",
    "Survivied_m = data_train.Survived[data_train.Sex == 'male'].value_counts()\n",
    "Survivied_f = data_train.Survived[data_train.Sex == 'female'].value_counts()\n",
    "df = pd.DataFrame({'男性': Survivied_m, '女性': Survivied_f})\n",
    "df.plot(kind='bar', stacked=True)\n",
    "plt.title(\"不同性別的客人獲救情况\")\n",
    "plt.xlabel(\"性别\") \n",
    "plt.ylabel(\"人數\")\n",
    "\n",
    "plt.show()"
   ]
  },
  {
   "cell_type": "markdown",
   "metadata": {},
   "source": [
    "### <font color=red>女性明顯獲救的機率高很多，所以這絕對是影之後預測獲救機率的一個重要特徵。<font>"
   ]
  },
  {
   "cell_type": "code",
   "execution_count": 25,
   "metadata": {},
   "outputs": [
    {
     "data": {
      "text/plain": [
       "<matplotlib.figure.Figure at 0x10c3ab358>"
      ]
     },
     "metadata": {},
     "output_type": "display_data"
    },
    {
     "data": {
      "image/png": "[encoded data removed]",
      "text/plain": [
       "<matplotlib.figure.Figure at 0x111309e80>"
      ]
     },
     "metadata": {},
     "output_type": "display_data"
    }
   ],
   "source": [
    "# 不同登船口的客人獲救的機率是否有不同?\n",
    "fig = plt.figure()\n",
    "fig.set(alpha=0.2) \n",
    "\n",
    "Survived_0 = data_train.Embarked[data_train.Survived == 0].value_counts()\n",
    "Survived_1 = data_train.Embarked[data_train.Survived == 1].value_counts()\n",
    "df = pd.DataFrame({'獲救':Survived_1, '未獲救':Survived_0})\n",
    "df.plot(kind='bar', stacked=True)\n",
    "plt.title(\"不同登船口的客人獲救情况\")\n",
    "plt.xlabel(\"登船口\") \n",
    "plt.ylabel(\"人數\") \n",
    "\n",
    "plt.show()"
   ]
  },
  {
   "cell_type": "markdown",
   "metadata": {},
   "source": [
    "### <font color=red>不同的等船口似乎對獲救機率沒有明顯的影響。<font>"
   ]
  },
  {
   "cell_type": "code",
   "execution_count": 31,
   "metadata": {},
   "outputs": [
    {
     "data": {
      "image/png": "[encoded data removed]",
      "text/plain": [
       "<matplotlib.figure.Figure at 0x10da62d68>"
      ]
     },
     "metadata": {},
     "output_type": "display_data"
    }
   ],
   "source": [
    "# 近一步分析 \n",
    "# 不同性別+不同艙等的客人獲救的機率是否有不同?\n",
    "fig = plt.figure()\n",
    "fig.set(alpha=0.65) \n",
    "plt.title(\"不同性別+不同艙等的客人獲救情况\")\n",
    "\n",
    "ax1 = fig.add_subplot(141)\n",
    "data_train.Survived[data_train.Sex == 'female'][data_train.Pclass != 3].value_counts().plot(kind = 'bar', label = \"female highclass\", color = '#FA2479')\n",
    "ax1.set_xticklabels([\"獲救\", \"未獲救\"], rotation = 0)\n",
    "ax1.legend([\"女性 + 頭等/2等艙\"], loc='best')\n",
    "\n",
    "ax2=fig.add_subplot(142, sharey=ax1)\n",
    "data_train.Survived[data_train.Sex == 'female'][data_train.Pclass == 3].value_counts().plot(kind='bar', label='female, low class', color='pink')\n",
    "ax2.set_xticklabels([\"獲救\", \"未獲救\"], rotation=0)\n",
    "plt.legend([\"女性 + 3等艙\"], loc='best')\n",
    "\n",
    "ax3=fig.add_subplot(143, sharey=ax1)\n",
    "data_train.Survived[data_train.Sex == 'male'][data_train.Pclass != 3].value_counts().plot(kind='bar', label='male, high class',color='lightblue')\n",
    "ax3.set_xticklabels([\"獲救\", \"未獲救\"], rotation=0)\n",
    "plt.legend([\"男性 + 頭等/2等艙\"], loc='best')\n",
    "\n",
    "ax4=fig.add_subplot(144, sharey=ax1)\n",
    "data_train.Survived[data_train.Sex == 'male'][data_train.Pclass == 3].value_counts().plot(kind='bar', label='male low class', color='steelblue')\n",
    "ax4.set_xticklabels([\"獲救\", \"未獲救\"], rotation=0)\n",
    "plt.legend([\"男性 + 3等艙\"], loc='best')\n",
    "\n",
    "plt.show()"
   ]
  },
  {
   "cell_type": "code",
   "execution_count": null,
   "metadata": {
    "collapsed": true
   },
   "outputs": [],
   "source": []
  }
 ],
 "metadata": {
  "kernelspec": {
   "display_name": "Python 3",
   "language": "python",
   "name": "python3"
  },
  "language_info": {
   "codemirror_mode": {
    "name": "ipython",
    "version": 3
   },
   "file_extension": ".py",
   "mimetype": "text/x-python",
   "name": "python",
   "nbconvert_exporter": "python",
   "pygments_lexer": "ipython3",
   "version": "3.6.3"
  }
 },
 "nbformat": 4,
 "nbformat_minor": 2
}
